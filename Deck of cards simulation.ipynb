{
 "cells": [
  {
   "cell_type": "markdown",
   "metadata": {},
   "source": [
    "import random\n",
    "import scipy.stats  as stats"
   ]
  },
  {
   "cell_type": "markdown",
   "metadata": {},
   "source": [
    "# Simulation to find mean & standard deviation: Draw cards without replacement and user receives one point if the card they draw matches with the previous card"
   ]
  },
  {
   "cell_type": "code",
   "execution_count": 1,
   "metadata": {},
   "outputs": [
    {
     "name": "stdout",
     "output_type": "stream",
     "text": [
      "13\n",
      "12.051\n",
      "2.47495434301322\n"
     ]
    }
   ],
   "source": [
    "import numpy as np\n",
    "import random\n",
    "\n",
    "class DeckSuiteGame(object):\n",
    "    \n",
    "    def __init__(self,noOfCards,noOfSuits):\n",
    "        self.noOfCards = noOfCards\n",
    "        self.noOfSuits = noOfSuits\n",
    "        self.each_game_total = []\n",
    "        no_of_runs = 10000\n",
    "        for i in range(no_of_runs):\n",
    "             self.each_game_total.append(self.evaluateSingleGameScore())\n",
    "        \n",
    "    \n",
    "    def evaluateSingleGameScore(self):\n",
    "        #Evaluating mean for a single run\n",
    "        x1 = range(self.noOfSuits)\n",
    "        rep_eat = np.repeat(x1,self.noOfCards/self.noOfSuits)\n",
    "        random.shuffle(rep_eat)\n",
    "        total = 0\n",
    "        for i in range(1,self.noOfCards):\n",
    "            if rep_eat[i] == rep_eat[i-1]:\n",
    "                total += 1\n",
    "        return total\n",
    "    \n",
    "    def evaluateProbability(self):\n",
    "        #Evaluating mean for entire simulation\n",
    "        return np.mean(self.each_game_total)\n",
    "    \n",
    "    def evaluateStandardDeviation(self):\n",
    "        #Evaluating standard deviation for entire simulation\n",
    "        return np.std(self.each_game_total)\n",
    "     \n",
    "    \n",
    "play1 = DeckSuiteGame(26,2)\n",
    "print(play1.evaluateSingleGameScore())\n",
    "print(play1.evaluateProbability())\n",
    "print(play1.evaluateStandardDeviation())"
   ]
  },
  {
   "cell_type": "code",
   "execution_count": null,
   "metadata": {},
   "outputs": [],
   "source": []
  },
  {
   "cell_type": "code",
   "execution_count": null,
   "metadata": {},
   "outputs": [],
   "source": []
  },
  {
   "cell_type": "code",
   "execution_count": null,
   "metadata": {},
   "outputs": [],
   "source": []
  },
  {
   "cell_type": "code",
   "execution_count": null,
   "metadata": {},
   "outputs": [],
   "source": []
  },
  {
   "cell_type": "code",
   "execution_count": null,
   "metadata": {},
   "outputs": [],
   "source": []
  },
  {
   "cell_type": "code",
   "execution_count": null,
   "metadata": {},
   "outputs": [],
   "source": []
  }
 ],
 "metadata": {
  "kernelspec": {
   "display_name": "Python 3",
   "language": "python",
   "name": "python3"
  },
  "language_info": {
   "codemirror_mode": {
    "name": "ipython",
    "version": 3
   },
   "file_extension": ".py",
   "mimetype": "text/x-python",
   "name": "python",
   "nbconvert_exporter": "python",
   "pygments_lexer": "ipython3",
   "version": "3.6.5"
  }
 },
 "nbformat": 4,
 "nbformat_minor": 2
}
